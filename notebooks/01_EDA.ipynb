{
 "cells": [
  {
   "cell_type": "code",
   "execution_count": 10,
   "id": "unavailable-judgment",
   "metadata": {},
   "outputs": [],
   "source": [
    "import pandas as pd"
   ]
  },
  {
   "cell_type": "code",
   "execution_count": null,
   "id": "forced-scottish",
   "metadata": {},
   "outputs": [],
   "source": [
    "# To prevent sys.path append, first run ln -s ../source from this forder\n",
    "!ln -s ../source"
   ]
  },
  {
   "cell_type": "code",
   "execution_count": 2,
   "id": "quality-davis",
   "metadata": {},
   "outputs": [],
   "source": [
    "from source.input_output import InputLeafData"
   ]
  },
  {
   "cell_type": "code",
   "execution_count": 3,
   "id": "driven-surface",
   "metadata": {},
   "outputs": [],
   "source": [
    "station_data = InputLeafData('../datasets', 'station_data.xlsx').get_data()"
   ]
  },
  {
   "cell_type": "code",
   "execution_count": 4,
   "id": "micro-maria",
   "metadata": {},
   "outputs": [
    {
     "data": {
      "text/html": [
       "<div>\n",
       "<style scoped>\n",
       "    .dataframe tbody tr th:only-of-type {\n",
       "        vertical-align: middle;\n",
       "    }\n",
       "\n",
       "    .dataframe tbody tr th {\n",
       "        vertical-align: top;\n",
       "    }\n",
       "\n",
       "    .dataframe thead th {\n",
       "        text-align: right;\n",
       "    }\n",
       "</style>\n",
       "<table border=\"1\" class=\"dataframe\">\n",
       "  <thead>\n",
       "    <tr style=\"text-align: right;\">\n",
       "      <th></th>\n",
       "      <th>datetime</th>\n",
       "      <th>air_temp_mean</th>\n",
       "      <th>air_temp_max</th>\n",
       "      <th>air_temp_min</th>\n",
       "      <th>dew_point_mean</th>\n",
       "      <th>dew_point_min</th>\n",
       "      <th>solar_radiation_mean</th>\n",
       "      <th>VPD_mean</th>\n",
       "      <th>VPD_min</th>\n",
       "      <th>air_humidity_mean</th>\n",
       "      <th>...</th>\n",
       "      <th>wind_speed_mean</th>\n",
       "      <th>wind_speed_max</th>\n",
       "      <th>soil_humidity_mean</th>\n",
       "      <th>soil_temp_mean</th>\n",
       "      <th>soil_temp_max</th>\n",
       "      <th>soil_temp_min</th>\n",
       "      <th>solar_panel_last</th>\n",
       "      <th>AKB_last</th>\n",
       "      <th>AKB2_last</th>\n",
       "      <th>ETo</th>\n",
       "    </tr>\n",
       "  </thead>\n",
       "  <tbody>\n",
       "    <tr>\n",
       "      <th>0</th>\n",
       "      <td>2020-08-31 19:00:00</td>\n",
       "      <td>19.74</td>\n",
       "      <td>19.82</td>\n",
       "      <td>19.68</td>\n",
       "      <td>16.7</td>\n",
       "      <td>16.3</td>\n",
       "      <td>115</td>\n",
       "      <td>0.38</td>\n",
       "      <td>0.35</td>\n",
       "      <td>82.98</td>\n",
       "      <td>...</td>\n",
       "      <td>1.0</td>\n",
       "      <td>1.2</td>\n",
       "      <td>36.57</td>\n",
       "      <td>19.2</td>\n",
       "      <td>21.2</td>\n",
       "      <td>18.0</td>\n",
       "      <td>9058</td>\n",
       "      <td>6784</td>\n",
       "      <td>3643</td>\n",
       "      <td>NaN</td>\n",
       "    </tr>\n",
       "    <tr>\n",
       "      <th>1</th>\n",
       "      <td>2020-08-31 18:00:00</td>\n",
       "      <td>20.18</td>\n",
       "      <td>20.60</td>\n",
       "      <td>19.76</td>\n",
       "      <td>17.5</td>\n",
       "      <td>16.5</td>\n",
       "      <td>122</td>\n",
       "      <td>0.35</td>\n",
       "      <td>0.32</td>\n",
       "      <td>84.70</td>\n",
       "      <td>...</td>\n",
       "      <td>0.7</td>\n",
       "      <td>1.2</td>\n",
       "      <td>36.58</td>\n",
       "      <td>18.3</td>\n",
       "      <td>19.4</td>\n",
       "      <td>17.2</td>\n",
       "      <td>9298</td>\n",
       "      <td>6793</td>\n",
       "      <td>3643</td>\n",
       "      <td>NaN</td>\n",
       "    </tr>\n",
       "    <tr>\n",
       "      <th>2</th>\n",
       "      <td>2020-08-31 17:00:00</td>\n",
       "      <td>20.57</td>\n",
       "      <td>21.09</td>\n",
       "      <td>20.33</td>\n",
       "      <td>17.3</td>\n",
       "      <td>16.8</td>\n",
       "      <td>198</td>\n",
       "      <td>0.44</td>\n",
       "      <td>0.35</td>\n",
       "      <td>81.72</td>\n",
       "      <td>...</td>\n",
       "      <td>0.7</td>\n",
       "      <td>1.1</td>\n",
       "      <td>36.63</td>\n",
       "      <td>18.5</td>\n",
       "      <td>19.5</td>\n",
       "      <td>17.2</td>\n",
       "      <td>8349</td>\n",
       "      <td>6787</td>\n",
       "      <td>3643</td>\n",
       "      <td>NaN</td>\n",
       "    </tr>\n",
       "    <tr>\n",
       "      <th>3</th>\n",
       "      <td>2020-08-31 16:00:00</td>\n",
       "      <td>21.45</td>\n",
       "      <td>22.13</td>\n",
       "      <td>21.08</td>\n",
       "      <td>17.4</td>\n",
       "      <td>16.7</td>\n",
       "      <td>384</td>\n",
       "      <td>0.56</td>\n",
       "      <td>0.45</td>\n",
       "      <td>78.11</td>\n",
       "      <td>...</td>\n",
       "      <td>0.6</td>\n",
       "      <td>0.9</td>\n",
       "      <td>36.68</td>\n",
       "      <td>18.5</td>\n",
       "      <td>19.5</td>\n",
       "      <td>17.2</td>\n",
       "      <td>9125</td>\n",
       "      <td>6778</td>\n",
       "      <td>3643</td>\n",
       "      <td>NaN</td>\n",
       "    </tr>\n",
       "    <tr>\n",
       "      <th>4</th>\n",
       "      <td>2020-08-31 15:00:00</td>\n",
       "      <td>20.61</td>\n",
       "      <td>21.07</td>\n",
       "      <td>20.24</td>\n",
       "      <td>16.5</td>\n",
       "      <td>16.0</td>\n",
       "      <td>319</td>\n",
       "      <td>0.53</td>\n",
       "      <td>0.47</td>\n",
       "      <td>77.81</td>\n",
       "      <td>...</td>\n",
       "      <td>0.8</td>\n",
       "      <td>1.3</td>\n",
       "      <td>36.75</td>\n",
       "      <td>19.0</td>\n",
       "      <td>21.1</td>\n",
       "      <td>17.1</td>\n",
       "      <td>9605</td>\n",
       "      <td>6770</td>\n",
       "      <td>3643</td>\n",
       "      <td>NaN</td>\n",
       "    </tr>\n",
       "  </tbody>\n",
       "</table>\n",
       "<p>5 rows × 24 columns</p>\n",
       "</div>"
      ],
      "text/plain": [
       "              datetime  air_temp_mean  air_temp_max  air_temp_min  \\\n",
       "0  2020-08-31 19:00:00          19.74         19.82         19.68   \n",
       "1  2020-08-31 18:00:00          20.18         20.60         19.76   \n",
       "2  2020-08-31 17:00:00          20.57         21.09         20.33   \n",
       "3  2020-08-31 16:00:00          21.45         22.13         21.08   \n",
       "4  2020-08-31 15:00:00          20.61         21.07         20.24   \n",
       "\n",
       "   dew_point_mean  dew_point_min  solar_radiation_mean  VPD_mean  VPD_min  \\\n",
       "0            16.7           16.3                   115      0.38     0.35   \n",
       "1            17.5           16.5                   122      0.35     0.32   \n",
       "2            17.3           16.8                   198      0.44     0.35   \n",
       "3            17.4           16.7                   384      0.56     0.45   \n",
       "4            16.5           16.0                   319      0.53     0.47   \n",
       "\n",
       "   air_humidity_mean  ...  wind_speed_mean  wind_speed_max  \\\n",
       "0              82.98  ...              1.0             1.2   \n",
       "1              84.70  ...              0.7             1.2   \n",
       "2              81.72  ...              0.7             1.1   \n",
       "3              78.11  ...              0.6             0.9   \n",
       "4              77.81  ...              0.8             1.3   \n",
       "\n",
       "   soil_humidity_mean  soil_temp_mean  soil_temp_max  soil_temp_min  \\\n",
       "0               36.57            19.2           21.2           18.0   \n",
       "1               36.58            18.3           19.4           17.2   \n",
       "2               36.63            18.5           19.5           17.2   \n",
       "3               36.68            18.5           19.5           17.2   \n",
       "4               36.75            19.0           21.1           17.1   \n",
       "\n",
       "   solar_panel_last  AKB_last  AKB2_last  ETo  \n",
       "0              9058      6784       3643  NaN  \n",
       "1              9298      6793       3643  NaN  \n",
       "2              8349      6787       3643  NaN  \n",
       "3              9125      6778       3643  NaN  \n",
       "4              9605      6770       3643  NaN  \n",
       "\n",
       "[5 rows x 24 columns]"
      ]
     },
     "execution_count": 4,
     "metadata": {},
     "output_type": "execute_result"
    }
   ],
   "source": [
    "station_data.head()"
   ]
  },
  {
   "cell_type": "markdown",
   "id": "unauthorized-taxation",
   "metadata": {},
   "source": [
    "# Nulls"
   ]
  },
  {
   "cell_type": "code",
   "execution_count": 5,
   "id": "rotary-objective",
   "metadata": {},
   "outputs": [
    {
     "name": "stdout",
     "output_type": "stream",
     "text": [
      "<class 'pandas.core.frame.DataFrame'>\n",
      "RangeIndex: 3649 entries, 0 to 3648\n",
      "Data columns (total 24 columns):\n",
      "datetime                3649 non-null object\n",
      "air_temp_mean           3649 non-null float64\n",
      "air_temp_max            3649 non-null float64\n",
      "air_temp_min            3649 non-null float64\n",
      "dew_point_mean          3649 non-null float64\n",
      "dew_point_min           3649 non-null float64\n",
      "solar_radiation_mean    3649 non-null int64\n",
      "VPD_mean                3649 non-null float64\n",
      "VPD_min                 3649 non-null float64\n",
      "air_humidity_mean       3649 non-null float64\n",
      "air_humidity_max        3649 non-null float64\n",
      "air_humidity_min        3649 non-null float64\n",
      "precipitation           3649 non-null float64\n",
      "leaf_humidity_min       3649 non-null int64\n",
      "wind_speed_mean         3649 non-null float64\n",
      "wind_speed_max          3649 non-null float64\n",
      "soil_humidity_mean      3649 non-null float64\n",
      "soil_temp_mean          3649 non-null float64\n",
      "soil_temp_max           3649 non-null float64\n",
      "soil_temp_min           3649 non-null float64\n",
      "solar_panel_last        3649 non-null int64\n",
      "AKB_last                3649 non-null int64\n",
      "AKB2_last               3649 non-null int64\n",
      "ETo                     152 non-null float64\n",
      "dtypes: float64(18), int64(5), object(1)\n",
      "memory usage: 684.3+ KB\n"
     ]
    }
   ],
   "source": [
    "station_data.info()"
   ]
  },
  {
   "cell_type": "markdown",
   "id": "academic-harvard",
   "metadata": {},
   "source": [
    "# Features Explore"
   ]
  },
  {
   "cell_type": "markdown",
   "id": "unknown-preparation",
   "metadata": {},
   "source": [
    "EDA at result_from_attendee.ipynb"
   ]
  },
  {
   "cell_type": "markdown",
   "id": "compound-committee",
   "metadata": {},
   "source": [
    "# Target"
   ]
  },
  {
   "cell_type": "code",
   "execution_count": 6,
   "id": "major-korea",
   "metadata": {},
   "outputs": [
    {
     "data": {
      "text/plain": [
       "<matplotlib.axes._subplots.AxesSubplot at 0x7ff97692a160>"
      ]
     },
     "execution_count": 6,
     "metadata": {},
     "output_type": "execute_result"
    },
    {
     "data": {
      "image/png": "[encoded data removed]",
      "text/plain": [
       "<Figure size 432x288 with 1 Axes>"
      ]
     },
     "metadata": {
      "needs_background": "light"
     },
     "output_type": "display_data"
    }
   ],
   "source": [
    "station_data['leaf_humidity_min'].hist()"
   ]
  },
  {
   "cell_type": "code",
   "execution_count": 7,
   "id": "lined-change",
   "metadata": {},
   "outputs": [
    {
     "data": {
      "text/plain": [
       "0     2669\n",
       "60     690\n",
       "45      82\n",
       "5       28\n",
       "30      25\n",
       "75      23\n",
       "40      22\n",
       "10      20\n",
       "15      17\n",
       "35      15\n",
       "25      15\n",
       "20      15\n",
       "50      14\n",
       "55      13\n",
       "70       1\n",
       "Name: leaf_humidity_min, dtype: int64"
      ]
     },
     "execution_count": 7,
     "metadata": {},
     "output_type": "execute_result"
    }
   ],
   "source": [
    "station_data['leaf_humidity_min'].value_counts()"
   ]
  },
  {
   "cell_type": "markdown",
   "id": "blond-society",
   "metadata": {},
   "source": [
    "Значения идут с шагом в 5 минут. Измерения каждый час. Подозрительное знaчение 75."
   ]
  },
  {
   "cell_type": "code",
   "execution_count": 8,
   "id": "popular-charge",
   "metadata": {},
   "outputs": [
    {
     "data": {
      "text/plain": [
       "Int64Index([1626, 1629, 1695, 1697, 1707], dtype='int64')"
      ]
     },
     "execution_count": 8,
     "metadata": {},
     "output_type": "execute_result"
    }
   ],
   "source": [
    "station_data[station_data['leaf_humidity_min'] == 75].head().index"
   ]
  },
  {
   "cell_type": "code",
   "execution_count": 9,
   "id": "electric-documentary",
   "metadata": {
    "scrolled": false
   },
   "outputs": [
    {
     "data": {
      "text/plain": [
       "<matplotlib.axes._subplots.AxesSubplot at 0x7ff9748bb160>"
      ]
     },
     "execution_count": 9,
     "metadata": {},
     "output_type": "execute_result"
    },
    {
     "data": {
      "image/png": "[encoded data removed]",
      "text/plain": [
       "<Figure size 720x1440 with 1 Axes>"
      ]
     },
     "metadata": {
      "needs_background": "light"
     },
     "output_type": "display_data"
    }
   ],
   "source": [
    "station_data[1620:1700]['leaf_humidity_min'].plot(kind='barh', figsize=(10, 20))"
   ]
  },
  {
   "cell_type": "markdown",
   "id": "combined-prescription",
   "metadata": {},
   "source": [
    "Если посмотреть на значения ближе - 75 выглядит как задержка отправки данных. После него следует 45."
   ]
  },
  {
   "cell_type": "markdown",
   "id": "affiliated-juice",
   "metadata": {},
   "source": [
    "Значения влажности идут сериями (промежуточные значения 60) - поэтому возможно задачу стоит поставить как предсказание начала влажности листа и продолжительности влажности в минутах."
   ]
  },
  {
   "cell_type": "code",
   "execution_count": null,
   "id": "south-diagram",
   "metadata": {},
   "outputs": [],
   "source": []
  }
 ],
 "metadata": {
  "kernelspec": {
   "display_name": "mts_tv_recsys",
   "language": "python",
   "name": "venv"
  },
  "language_info": {
   "codemirror_mode": {
    "name": "ipython",
    "version": 3
   },
   "file_extension": ".py",
   "mimetype": "text/x-python",
   "name": "python",
   "nbconvert_exporter": "python",
   "pygments_lexer": "ipython3",
   "version": "3.6.10"
  }
 },
 "nbformat": 4,
 "nbformat_minor": 5
}
